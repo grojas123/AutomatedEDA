{
 "cells": [
  {
   "cell_type": "code",
   "id": "initial_id",
   "metadata": {
    "collapsed": true,
    "ExecuteTime": {
     "end_time": "2024-10-15T18:28:13.193192Z",
     "start_time": "2024-10-15T18:28:13.182189Z"
    }
   },
   "source": [
    "import pandas as pd\n",
    "from ydata_profiling import ProfileReport"
   ],
   "outputs": [],
   "execution_count": 9
  },
  {
   "metadata": {
    "ExecuteTime": {
     "end_time": "2024-10-15T18:28:19.019762Z",
     "start_time": "2024-10-15T18:28:13.200288Z"
    }
   },
   "cell_type": "code",
   "source": [
    "padron_completo = pd.read_csv(\"/Users/grojas/Documents/ProjectsPycharm/data/padron/padron_completo/PADRON_COMPLETO.csv\",encoding='latin-1')\n",
    "padron_completo['fechacaduc']=pd.to_datetime(padron_completo['fechacaduc'], format='%Y%m%d')"
   ],
   "id": "2abb522599228691",
   "outputs": [],
   "execution_count": 10
  },
  {
   "metadata": {
    "ExecuteTime": {
     "end_time": "2024-10-15T18:28:19.064702Z",
     "start_time": "2024-10-15T18:28:19.052693Z"
    }
   },
   "cell_type": "code",
   "source": "distritos_electorales=pd.read_csv(\"/Users/grojas/Documents/ProjectsPycharm/data/padron/padron_completo/Distelec.csv\",encoding='latin-1')",
   "id": "a839f410eebc6a9",
   "outputs": [],
   "execution_count": 11
  },
  {
   "metadata": {
    "ExecuteTime": {
     "end_time": "2024-10-15T18:28:19.732267Z",
     "start_time": "2024-10-15T18:28:19.097201Z"
    }
   },
   "cell_type": "code",
   "source": "merge = pd.merge(padron_completo,distritos_electorales, on=\"codelec\", how=\"left\")",
   "id": "2af1961cd396310a",
   "outputs": [],
   "execution_count": 12
  },
  {
   "metadata": {
    "ExecuteTime": {
     "end_time": "2024-10-15T18:29:54.860688Z",
     "start_time": "2024-10-15T18:28:19.766109Z"
    }
   },
   "cell_type": "code",
   "source": [
    "profile = ProfileReport(merge, title=\"Padron Electoral\")\n",
    "profile.to_file(\"padron_electoral.html\")"
   ],
   "id": "b3d9bf1b1084e22",
   "outputs": [
    {
     "data": {
      "text/plain": [
       "Summarize dataset:   0%|          | 0/5 [00:00<?, ?it/s]"
      ],
      "application/vnd.jupyter.widget-view+json": {
       "version_major": 2,
       "version_minor": 0,
       "model_id": "dba4a5f55bd74ecdaa640f36212ffca9"
      }
     },
     "metadata": {},
     "output_type": "display_data"
    },
    {
     "data": {
      "text/plain": [
       "Generate report structure:   0%|          | 0/1 [00:00<?, ?it/s]"
      ],
      "application/vnd.jupyter.widget-view+json": {
       "version_major": 2,
       "version_minor": 0,
       "model_id": "98b7fe5e5070477aa17b8f1efde98eda"
      }
     },
     "metadata": {},
     "output_type": "display_data"
    },
    {
     "data": {
      "text/plain": [
       "Render HTML:   0%|          | 0/1 [00:00<?, ?it/s]"
      ],
      "application/vnd.jupyter.widget-view+json": {
       "version_major": 2,
       "version_minor": 0,
       "model_id": "f96e24a621be47b0a0365ea427f6fc0c"
      }
     },
     "metadata": {},
     "output_type": "display_data"
    },
    {
     "data": {
      "text/plain": [
       "Export report to file:   0%|          | 0/1 [00:00<?, ?it/s]"
      ],
      "application/vnd.jupyter.widget-view+json": {
       "version_major": 2,
       "version_minor": 0,
       "model_id": "b144b75a6b5e470d9bf64349008c7ae8"
      }
     },
     "metadata": {},
     "output_type": "display_data"
    }
   ],
   "execution_count": 13
  },
  {
   "metadata": {
    "ExecuteTime": {
     "end_time": "2024-10-15T18:31:21.262547Z",
     "start_time": "2024-10-15T18:29:54.896699Z"
    }
   },
   "cell_type": "code",
   "source": [
    "profile = ProfileReport(merge, title=\"Padron Electoral with datatypes\",variables={\n",
    "    'codelec': 'Numeric',\n",
    "    'provincia': 'Categorical',\n",
    "    'canton': 'Categorical',\n",
    "    'distrito': 'Categorical',\n",
    "    'fechacaduc': 'DateTime', \n",
    "    'relleno': 'Numeric',\n",
    "    'cedula': 'Numeric',\n",
    "    'junta': 'Numeric',\n",
    "    'nombre': 'Categorical',\n",
    "    '1apellido': 'Categorical',\n",
    "    '2apellido': 'Categorical'\n",
    "})\n",
    "profile.to_file(\"padron_electoral_with_datatypes.html\")"
   ],
   "id": "887912a50f99f461",
   "outputs": [
    {
     "data": {
      "text/plain": [
       "Summarize dataset:   0%|          | 0/5 [00:00<?, ?it/s]"
      ],
      "application/vnd.jupyter.widget-view+json": {
       "version_major": 2,
       "version_minor": 0,
       "model_id": "bf5c18c7ef764bb28d2fe3050d4eaaa6"
      }
     },
     "metadata": {},
     "output_type": "display_data"
    },
    {
     "data": {
      "text/plain": [
       "Generate report structure:   0%|          | 0/1 [00:00<?, ?it/s]"
      ],
      "application/vnd.jupyter.widget-view+json": {
       "version_major": 2,
       "version_minor": 0,
       "model_id": "c66359af1c7a4ca985559d474e9e1d6a"
      }
     },
     "metadata": {},
     "output_type": "display_data"
    },
    {
     "data": {
      "text/plain": [
       "Render HTML:   0%|          | 0/1 [00:00<?, ?it/s]"
      ],
      "application/vnd.jupyter.widget-view+json": {
       "version_major": 2,
       "version_minor": 0,
       "model_id": "ea5901d543104ffa833454931a7d7487"
      }
     },
     "metadata": {},
     "output_type": "display_data"
    },
    {
     "data": {
      "text/plain": [
       "Export report to file:   0%|          | 0/1 [00:00<?, ?it/s]"
      ],
      "application/vnd.jupyter.widget-view+json": {
       "version_major": 2,
       "version_minor": 0,
       "model_id": "50cd582249374968812c37082dd3799c"
      }
     },
     "metadata": {},
     "output_type": "display_data"
    }
   ],
   "execution_count": 14
  },
  {
   "metadata": {
    "ExecuteTime": {
     "end_time": "2024-10-15T18:31:21.308549Z",
     "start_time": "2024-10-15T18:31:21.297511Z"
    }
   },
   "cell_type": "code",
   "source": "",
   "id": "56dbe725bac1a806",
   "outputs": [],
   "execution_count": null
  }
 ],
 "metadata": {
  "kernelspec": {
   "display_name": "Python 3",
   "language": "python",
   "name": "python3"
  },
  "language_info": {
   "codemirror_mode": {
    "name": "ipython",
    "version": 2
   },
   "file_extension": ".py",
   "mimetype": "text/x-python",
   "name": "python",
   "nbconvert_exporter": "python",
   "pygments_lexer": "ipython2",
   "version": "2.7.6"
  }
 },
 "nbformat": 4,
 "nbformat_minor": 5
}
