{
 "cells": [
  {
   "cell_type": "code",
   "id": "initial_id",
   "metadata": {
    "collapsed": true,
    "ExecuteTime": {
     "end_time": "2024-10-16T21:48:49.122782Z",
     "start_time": "2024-10-16T21:46:23.880596Z"
    }
   },
   "source": [
    "import pandas as pd\n",
    "from ydata_profiling import ProfileReport"
   ],
   "outputs": [],
   "execution_count": 2
  },
  {
   "metadata": {
    "ExecuteTime": {
     "end_time": "2024-10-16T21:48:57.995593Z",
     "start_time": "2024-10-16T21:48:49.138948Z"
    }
   },
   "cell_type": "code",
   "source": [
    "padron_completo = pd.read_csv(\"/Users/grojas/Documents/ProjectsPycharm/data/padron/padron_completo/PADRON_COMPLETO.csv\",encoding='latin-1')\n",
    "padron_completo['fechacaduc']=pd.to_datetime(padron_completo['fechacaduc'], format='%Y%m%d')"
   ],
   "id": "2abb522599228691",
   "outputs": [],
   "execution_count": 3
  },
  {
   "metadata": {
    "ExecuteTime": {
     "end_time": "2024-10-16T21:48:58.092340Z",
     "start_time": "2024-10-16T21:48:58.038183Z"
    }
   },
   "cell_type": "code",
   "source": "distritos_electorales=pd.read_csv(\"/Users/grojas/Documents/ProjectsPycharm/data/padron/padron_completo/Distelec.csv\",encoding='latin-1')",
   "id": "a839f410eebc6a9",
   "outputs": [],
   "execution_count": 4
  },
  {
   "metadata": {
    "ExecuteTime": {
     "end_time": "2024-10-16T21:48:59.467084Z",
     "start_time": "2024-10-16T21:48:58.168150Z"
    }
   },
   "cell_type": "code",
   "source": "merge = pd.merge(padron_completo,distritos_electorales, on=\"codelec\", how=\"left\")",
   "id": "2af1961cd396310a",
   "outputs": [],
   "execution_count": 5
  },
  {
   "metadata": {
    "ExecuteTime": {
     "end_time": "2024-10-16T21:50:44.505758Z",
     "start_time": "2024-10-16T21:48:59.487930Z"
    }
   },
   "cell_type": "code",
   "source": [
    "profile = ProfileReport(merge, title=\"Padron Electoral\")\n",
    "profile.to_file(\"padron_electoral.html\")"
   ],
   "id": "b3d9bf1b1084e22",
   "outputs": [
    {
     "data": {
      "text/plain": [
       "Summarize dataset:   0%|          | 0/5 [00:00<?, ?it/s]"
      ],
      "application/vnd.jupyter.widget-view+json": {
       "version_major": 2,
       "version_minor": 0,
       "model_id": "178888c182a84285875fdaac6f02080d"
      }
     },
     "metadata": {},
     "output_type": "display_data"
    },
    {
     "data": {
      "text/plain": [
       "Generate report structure:   0%|          | 0/1 [00:00<?, ?it/s]"
      ],
      "application/vnd.jupyter.widget-view+json": {
       "version_major": 2,
       "version_minor": 0,
       "model_id": "1d63222c96474d479dc464958aef2da7"
      }
     },
     "metadata": {},
     "output_type": "display_data"
    },
    {
     "data": {
      "text/plain": [
       "Render HTML:   0%|          | 0/1 [00:00<?, ?it/s]"
      ],
      "application/vnd.jupyter.widget-view+json": {
       "version_major": 2,
       "version_minor": 0,
       "model_id": "2b5f0eb664ed49118b9514681bee2eb2"
      }
     },
     "metadata": {},
     "output_type": "display_data"
    },
    {
     "data": {
      "text/plain": [
       "Export report to file:   0%|          | 0/1 [00:00<?, ?it/s]"
      ],
      "application/vnd.jupyter.widget-view+json": {
       "version_major": 2,
       "version_minor": 0,
       "model_id": "c86ba201d54d4da7922842076beeefe7"
      }
     },
     "metadata": {},
     "output_type": "display_data"
    }
   ],
   "execution_count": 6
  },
  {
   "metadata": {
    "ExecuteTime": {
     "end_time": "2024-10-16T21:52:34.535197Z",
     "start_time": "2024-10-16T21:50:44.544620Z"
    }
   },
   "cell_type": "code",
   "source": [
    "profile = ProfileReport(merge, title=\"Padron Electoral with datatypes\",variables={\n",
    "    'codelec': 'Numeric',\n",
    "    'provincia': 'Categorical',\n",
    "    'canton': 'Categorical',\n",
    "    'distrito': 'Categorical',\n",
    "    'fechacaduc': 'DateTime', \n",
    "    'relleno': 'Numeric',\n",
    "    'cedula': 'Numeric',\n",
    "    'junta': 'Numeric',\n",
    "    'nombre': 'Categorical',\n",
    "    '1apellido': 'Categorical',\n",
    "    '2apellido': 'Categorical'\n",
    "})\n",
    "profile.to_file(\"padron_electoral_with_datatypes.html\")"
   ],
   "id": "887912a50f99f461",
   "outputs": [
    {
     "data": {
      "text/plain": [
       "Summarize dataset:   0%|          | 0/5 [00:00<?, ?it/s]"
      ],
      "application/vnd.jupyter.widget-view+json": {
       "version_major": 2,
       "version_minor": 0,
       "model_id": "004809c059f04f659e8aed3f4439a6a9"
      }
     },
     "metadata": {},
     "output_type": "display_data"
    },
    {
     "data": {
      "text/plain": [
       "Generate report structure:   0%|          | 0/1 [00:00<?, ?it/s]"
      ],
      "application/vnd.jupyter.widget-view+json": {
       "version_major": 2,
       "version_minor": 0,
       "model_id": "f2fde6703b174f9f883fea1d45f4f81f"
      }
     },
     "metadata": {},
     "output_type": "display_data"
    },
    {
     "data": {
      "text/plain": [
       "Render HTML:   0%|          | 0/1 [00:00<?, ?it/s]"
      ],
      "application/vnd.jupyter.widget-view+json": {
       "version_major": 2,
       "version_minor": 0,
       "model_id": "70d57078f4f14a09b5903b12837bb34e"
      }
     },
     "metadata": {},
     "output_type": "display_data"
    },
    {
     "data": {
      "text/plain": [
       "Export report to file:   0%|          | 0/1 [00:00<?, ?it/s]"
      ],
      "application/vnd.jupyter.widget-view+json": {
       "version_major": 2,
       "version_minor": 0,
       "model_id": "9c41e1fda1184f898959f096b308ae4b"
      }
     },
     "metadata": {},
     "output_type": "display_data"
    }
   ],
   "execution_count": 7
  },
  {
   "metadata": {
    "ExecuteTime": {
     "end_time": "2024-10-16T21:52:34.569584Z",
     "start_time": "2024-10-16T21:52:34.564615Z"
    }
   },
   "cell_type": "code",
   "source": "",
   "id": "56dbe725bac1a806",
   "outputs": [],
   "execution_count": null
  }
 ],
 "metadata": {
  "kernelspec": {
   "display_name": "Python 3",
   "language": "python",
   "name": "python3"
  },
  "language_info": {
   "codemirror_mode": {
    "name": "ipython",
    "version": 2
   },
   "file_extension": ".py",
   "mimetype": "text/x-python",
   "name": "python",
   "nbconvert_exporter": "python",
   "pygments_lexer": "ipython2",
   "version": "2.7.6"
  }
 },
 "nbformat": 4,
 "nbformat_minor": 5
}
