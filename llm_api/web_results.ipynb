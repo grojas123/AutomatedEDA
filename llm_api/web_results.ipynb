{
 "cells": [
  {
   "metadata": {
    "collapsed": true,
    "ExecuteTime": {
     "end_time": "2024-10-16T00:04:22.861127Z",
     "start_time": "2024-10-16T00:04:22.118767Z"
    }
   },
   "cell_type": "code",
   "source": [
    "import requests\n",
    "import os\n",
    "from dotenv import load_dotenv\n",
    "load_dotenv()\n",
    "YDC_API_KEY = os.getenv('YDC_API_KEY')\n",
    "\n",
    "def get_ai_snippets_for_query(query):\n",
    "    headers = {\"X-API-Key\": YDC_API_KEY}\n",
    "    params = {\"query\": query}\n",
    "    return requests.get(\n",
    "        f\"https://api.ydc-index.io/search?query={query}\",\n",
    "        params=params,\n",
    "        headers=headers,\n",
    "    ).json()\n",
    "results = get_ai_snippets_for_query(\"reasons to smile\")\n"
   ],
   "id": "initial_id",
   "outputs": [],
   "execution_count": 5
  },
  {
   "metadata": {
    "ExecuteTime": {
     "end_time": "2024-10-16T00:04:22.891284Z",
     "start_time": "2024-10-16T00:04:22.870126Z"
    }
   },
   "cell_type": "code",
   "source": "results",
   "id": "c287bd4fce123ade",
   "outputs": [
    {
     "data": {
      "text/plain": [
       "{'hits': [{'description': \"Smiling not only helps to prevent us from looking tired, worn down, and overwhelmed, but it can actually help decrease stress. Believe it or not, smiling can reduce stress even if you don't feel like smiling or even if you fake it with a smile that isn't genuine.\",\n",
       "   'snippets': ['Dominance: Smiles intended to convey contempt, disgust, or superiority. Such smiles have been shown to increase cortisol (stress hormone) levels in people they are directed toward. ... Perhaps the most compelling reason to smile is that it may lengthen your overall lifespan.',\n",
       "    'What does psychology have to say about smiling? Whether your smile is genuine or not, it can act on your body and mind in a variety of positive ways, offering benefits for your health, your mood, and even the moods of people around you.',\n",
       "    \"Smiling not only helps to prevent us from looking tired, worn down, and overwhelmed, but it can actually help decrease stress. Believe it or not, smiling can reduce stress even if you don't feel like smiling or even if you fake it with a smile that isn't genuine.\",\n",
       "    \"Your brain automatically notices and interprets other people's facial expressions—and sometimes, you may even mimic them. That means you might spot someone else's smile and unconsciously smile yourself. ... Smiling can also boost your overall health by helping your immune system to function more effectively.\"],\n",
       "   'title': 'Top 10 Reasons to Smile Every Day',\n",
       "   'url': 'https://www.verywellmind.com/top-reasons-to-smile-every-day-2223755'},\n",
       "  {'description': 'I suffer from “bitchy resting face”. I’ve been told, multiple times, that I’m so much nicer than people initially realised. Which is a weird compliment to get. Apparently I don’t always make the best…',\n",
       "   'snippets': ['However, in Europe and the UK, often my smiles are often meet with confusion. Or they’re not meet at all. It seems people are actively avoiding eye-contact, whether it’s through their smart phone or just by tuning out people around them. To refresh my energy for smiling at strangers, I decided to write about reasons to smile more.',\n",
       "    'I aimed for 100 reasons to push myself and generate creative answers. It proved easier than I expected and I ended up with 107. I’m sure there’s many more that could be added! Research shows, that even a forced smile brings amazing physical and mental benefits.',\n",
       "    'Even just reading the word “smile” or associated words can be enough to make you smile. You’ve just read it 133 times. You’ve also seen 25 gif smiles. This story of a personal smiling experiment is my favourite reason to smile. I agree with it’s conclusion, smiling offers benefits that far outweigh the small effort required.',\n",
       "    'I suffer from “bitchy resting face”. I’ve been told, multiple times, that I’m so much nicer than people initially realised. Which is a weird compliment to get. Apparently I don’t always make the best first impression! So I make a conscious effort to smile often.'],\n",
       "   'title': '107 reasons to smile more often. This post was written to make you… | by Nicole Williams | Medium',\n",
       "   'url': 'https://medium.com/@envycollect/107-reasons-to-smile-more-often-ae1056003878'},\n",
       "  {'description': \"100 Reasons to Smile! Love to smile, but not in love with your smile? Look into Invisalign clear aligners for the smile you've dreamt of! #invisalign\",\n",
       "   'snippets': [\"100 Reasons to Smile- Love to smile, but not in love with your smile? Look into Invisalign clear aligners for the smile you've dreamt of!\",\n",
       "    'Did you know that it takes fewer muscles to smile than it does to frown? Or that smiling is a great way to instantly boost endorphins and feel better all over? There are many benefits to smiling, and luckily there are always reasons to smile. If you need a little pick me up, look below at these 100 reasons to smile, and see why you are only a smile away from feeling your best and inspiring others around you!',\n",
       "    'I am going to print this out and send it out to some friends who could use a pick me up! ... Love this, your list made a smile. Yes seeing world through kids eye will be always fun. Missing those childhood days. ... This is such a wonderful list of reasons to smile.',\n",
       "    'My family makes me smile (most of the time). I will add being home after visiting my daughter and family for over 3 months! ... Such a great list of reasons to smile.'],\n",
       "   'title': '100 Reasons to Smile - This Mama Loves',\n",
       "   'url': 'https://www.thismamaloves.com/100-reasons-to-smile/'},\n",
       "  {'description': 'Smiling Boots the Immune System. The act of smiling actually helps the immune system to function more effectively. It is believed that when you smile, immune function improves because you are more relaxed, thanks to the release of certain neurotransmitters.',\n",
       "   'snippets': ['There are a lot of reasons you should be flashing those pearly whites more often – smiling is good for your health! According to Psychology Today, when you smile you activate neural messaging that benefits your health and happiness. As we close out the year, it is important to find reasons to smile and be grateful for all the lessons we’ve learned and achievements accomplished.',\n",
       "    'For those who can’t find a reason to smile, Dr. Laurie McNamara and Dr.',\n",
       "    'Smiling is a Natural Antidepressant. Having a hard time getting through the day? Smiling can help! The increased levels of serotonin released from smiling serve as a natural mood lifter. While many pharmaceutical antidepressants aim to do the same thing, a smile leaves out the negative side effects.',\n",
       "    'Smiling Boots the Immune System. The act of smiling actually helps the immune system to function more effectively. It is believed that when you smile, immune function improves because you are more relaxed, thanks to the release of certain neurotransmitters.'],\n",
       "   'title': '5 Reasons to Smile in the Year 2020 | McNamara Orthodontics',\n",
       "   'url': 'https://mcnamaraorthodontics.com/reasons-to-smile-for-orthodontics-in-2020/'},\n",
       "  {'description': 'A Smile = Confidence. This may relate to the fact that people who smile more often are seen as successful. If you show confidence through your smile, you are more likely to be perceived as confident in an interview situation, on the job or just walking down the street.',\n",
       "   'snippets': ['There was a study of baseball cards that found that the players with big smiles on their baseball mugs lived, on average, seven years longer than those who didn’t smile. A similar study followed women in yearbook photos. It found those who smiled were happier, had happier marriages, and were more successful. No matter the reason, we want you to smile bigger and more often.',\n",
       "    'Smiling makes us feel good. When we smile, the neurotransmitters in our brain are activated and release dopamine, endorphins, and serotonin. This helps to relax our bodies, lower our heart rates, relieve stress and boost mood.',\n",
       "    'A Smile = Confidence. This may relate to the fact that people who smile more often are seen as successful. If you show confidence through your smile, you are more likely to be perceived as confident in an interview situation, on the job or just walking down the street.',\n",
       "    'People associate a more positive description to those who have a smile with straight teeth than those who have crooked teeth. Those with straight teeth are 21% more likely to be seen as happy, 47% more likely to be viewed as healthy and 38% more likely to be perceived as smart.'],\n",
       "   'title': 'Generations Dental | 5 Reasons to Smile',\n",
       "   'url': 'https://www.generationsdentalhartland.com/5-reasons-to-smile/'},\n",
       "  {'description': \"Smiling is truly contagious, as ... of your smiles being returned. There's a reason why we like to smile--it releases feel-good neurotransmitters like endorphins, dopamine, and mood-enhancing serotonin that do a body a whole lot of good....\",\n",
       "   'snippets': [\"Smiling is truly contagious, as the mirror neurons deep inside our brains respond to a smile with a smile of our own. You can even count on more than half of your smiles being returned. There's a reason why we like to smile--it releases feel-good neurotransmitters like endorphins, dopamine, and mood-enhancing serotonin that do a body a whole lot of good.\",\n",
       "    'Smiling is a powerful life lift when practiced daily and frequently. Here are 13 reasons to share the gift of a smile right now.',\n",
       "    'I walked into our local coffee shop today and was greeted by a friendly and smiling barista as he took my order. My returned smile remained on my face as I turned to walk up to the counter to wait for my drink, which was seen by a woman already there waiting for her drink.',\n",
       "    'In fact, the bigger your smile (not a crazy smile, but a big approachable smile), the more others will trust you. Building trust is an absolute must for business and individual success, and when you give your customers a warm smile, they are much more likely to trust you.'],\n",
       "   'title': '13 Great Reasons to Smile More Every Day | Inc.com',\n",
       "   'url': 'https://www.inc.com/peter-economy/13-great-reasons-to-smile-more-every-day.html'},\n",
       "  {'description': 'Our Ann Arbor dentists, Dr. Kristin Johnson, Dr. Robert Stevenson, and Dr. Carrie Guernsey, offer a variety of dental services for all ages.',\n",
       "   'snippets': ['What sets our Ann Arbor dental practice apart from the rest is the time we take to build meaningful relationships with patients. We don’t want to push you to pursue unnecessary treatment. Instead, our dentists will listen to what you desire most for your smile and make honest recommendations that will not only leave you healthier, but more confident.',\n",
       "    'Here at Liberty Dental, we believe in meeting the patient where they are. Dr. Robert Stevenson, Dr. Kristin Johnson, Dr. Carrie Guernsey, and Dr. Heba Abuhussein want those receiving dental care to know that their needs matter and that oral health is a worthy investment.',\n",
       "    'It’s important to our team that you’re aware of every detail pertaining to your dental care. Before any procedure, Dr. Stevenson, Dr. Johnson, Dr. Guernsey, Dr. Abuhussein will go over what you can expect from start to finish so you’re educated and informed.',\n",
       "    'From CEREC same-day crowns and dental implants to clear aligners and teeth whitening, our dedicated Ann Arbor dentists have the whole family in mind.'],\n",
       "   'title': 'Ten Reasons to Keep Smiling - Ann Arbor Dentist',\n",
       "   'url': 'https://www.rjstevensondds.com/ten-reasons-to-keep-smiling-blog.php'},\n",
       "  {'description': 'With all the impending doomsday predictions everyone is looking for a reason to smile these days. And why not? Smiling has been shown to relieve stress, boost the immune system, release endorphins, and even make us more attractive. It’s the natural drug. So put down the Xanax and pick up ...',\n",
       "   'snippets': ['With all the impending doomsday predictions everyone is looking for a reason to smile these days. And why not? Smiling has been shown to relieve stress, boost the immune system, release endorphins, and even make us more attractive. It’s the natural drug. So put down the Xanax and pick up a copy of 1,033 Reasons to Smile.',\n",
       "    \"Whether it’s the sight of baby animals wrestling each other or watching pigeons fight over a Cheeto, there are more than enough funny, silly, and downright weird reasons to put a smile on your face inside this little book of joy, including: \\x95 When the person in the next lane lets you ahead of them in heavy traffic \\x95 When you finally get back into your own bed after being away from home \\x95 You check the calendar on a Friday and realize that Monday is a holiday We're all looking for a reason to smile these days.\",\n",
       "    'Elizabeth Dutton is the author of 1,033 Reasons to Smile. She is a graduate of the creative writing master’s program at the University of Glasgow and has worked for Mother Jones magazine. Driftwood is her first novel.',\n",
       "    \"I recommend this book for anyone who's had a bad day, or just needs a smile, it will just take an hour or so to read =) ... it's not because i'm currently on a fistful of kolonopin, although i won't lie, it helps. no! sillies, i'm smiling because i've just read 1,033 reasons to smile by elizabeth dutton for the billionth time and yes, it's that wonderful!\"],\n",
       "   'title': '1,033 Reasons to Smile: Dutton, Elizabeth: 9781616083656: Amazon.com: Books',\n",
       "   'url': 'https://www.amazon.com/033-Reasons-Smile-Elizabeth-Dutton/dp/1616083654'},\n",
       "  {'description': 'And the prime purpose of white blood cells are to protect the body against both infectious diseases and foreign invaders. So, smiling more often actually makes your body more immune to diseases and hence makes you healthier. In fact, that is the prime reason ...',\n",
       "   'snippets': ['Just smile, and watch your brain work its magic! It has been reported that when you’re smiling, the body releases more white blood cells than it usually does. And the prime purpose of white blood cells are to protect the body against both infectious diseases and foreign invaders. So, smiling more often actually makes your body more immune to diseases and hence makes you healthier. In fact, that is the prime reason why so many famous celebrities are invited to children’s hospitals.',\n",
       "    'Smiles are one of the most contagious things in the world, behind probably only to laughter, which is in a way just a louder smile. So smile more, and spread the joy! We have discussed a lot of benefits of smiling. But we are yet to discuss the most important reason you should smile more often –- because they’re free!',\n",
       "    'So, the next time you get the opportunity to smile, just smile, and enjoy all that positivity it spawns. If you’re not convinced, well here below are reasons you should be.',\n",
       "    \"A smile can be so powerful that it can even turn your enemies on your side. And, it's not going to cost you a penny either. So why not smile more often?\"],\n",
       "   'title': '10 Reasons You Should Smile More Often - LifeHack',\n",
       "   'url': 'https://www.lifehack.org/358476/10-reasons-you-should-smile-more-often'},\n",
       "  {'description': 'Personal growth and emotional health require intention and attention to be optimal. These actionable tools and resources can help your development and goals.',\n",
       "   'snippets': [\"Here's how to cultivate gratitude in your life.\",\n",
       "    \"Here's how and why you might want to forgive yourself.\",\n",
       "    'Self-respect is about honoring your needs. Here are 5 tips to develop it.',\n",
       "    'You want it, and yet, you can’t seem to get there.'],\n",
       "   'title': '7 Reasons to Smile - Psych Central',\n",
       "   'url': 'https://psychcentral.com/lib/7-reasons-to-smile'}],\n",
       " 'latency': 0.1113278865814209}"
      ]
     },
     "execution_count": 6,
     "metadata": {},
     "output_type": "execute_result"
    }
   ],
   "execution_count": 6
  },
  {
   "metadata": {
    "ExecuteTime": {
     "end_time": "2024-10-16T00:04:22.922175Z",
     "start_time": "2024-10-16T00:04:22.909126Z"
    }
   },
   "cell_type": "code",
   "source": "",
   "id": "aeb6f76a9888f828",
   "outputs": [],
   "execution_count": null
  }
 ],
 "metadata": {
  "kernelspec": {
   "display_name": "Python 3",
   "language": "python",
   "name": "python3"
  },
  "language_info": {
   "codemirror_mode": {
    "name": "ipython",
    "version": 2
   },
   "file_extension": ".py",
   "mimetype": "text/x-python",
   "name": "python",
   "nbconvert_exporter": "python",
   "pygments_lexer": "ipython2",
   "version": "2.7.6"
  }
 },
 "nbformat": 4,
 "nbformat_minor": 5
}
