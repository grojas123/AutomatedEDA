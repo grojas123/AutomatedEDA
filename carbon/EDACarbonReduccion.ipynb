{
 "cells": [
  {
   "cell_type": "code",
   "id": "initial_id",
   "metadata": {
    "collapsed": true,
    "ExecuteTime": {
     "end_time": "2024-10-16T21:54:08.858032Z",
     "start_time": "2024-10-16T21:54:08.852593Z"
    }
   },
   "source": [
    "# https://www.electricitymaps.com/data-portal/costa-rica\n",
    "import pandas as pd\n",
    "from ydata_profiling import ProfileReport"
   ],
   "outputs": [],
   "execution_count": 4
  },
  {
   "metadata": {
    "ExecuteTime": {
     "end_time": "2024-10-16T21:54:18.049719Z",
     "start_time": "2024-10-16T21:54:08.882043Z"
    }
   },
   "cell_type": "code",
   "source": [
    "df = pd.read_csv('../data/CR_2023_daily.csv')\n",
    "profile = ProfileReport(df, title=\"Emission Reduction Report daily\")\n",
    "profile.to_file(\"CR_2023_daily.html\")"
   ],
   "id": "93c3adac20372484",
   "outputs": [
    {
     "data": {
      "text/plain": [
       "Summarize dataset:   0%|          | 0/5 [00:00<?, ?it/s]"
      ],
      "application/vnd.jupyter.widget-view+json": {
       "version_major": 2,
       "version_minor": 0,
       "model_id": "839a4c9f8303438f86ed3e29230bab73"
      }
     },
     "metadata": {},
     "output_type": "display_data"
    },
    {
     "name": "stderr",
     "output_type": "stream",
     "text": [
      "/Users/grojas/Documents/ProjectsPycharm/Projects/AutomatedEDA/.venv/lib/python3.10/site-packages/ydata_profiling/visualisation/utils.py:73: UserWarning: Glyph 8322 (\\N{SUBSCRIPT TWO}) missing from font(s) Arial.\n",
      "  plt.savefig(\n",
      "/Users/grojas/Documents/ProjectsPycharm/Projects/AutomatedEDA/.venv/lib/python3.10/site-packages/ydata_profiling/visualisation/utils.py:73: UserWarning: Glyph 8322 (\\N{SUBSCRIPT TWO}) missing from font(s) Arial.\n",
      "  plt.savefig(\n",
      "/Users/grojas/Documents/ProjectsPycharm/Projects/AutomatedEDA/.venv/lib/python3.10/site-packages/ydata_profiling/visualisation/utils.py:73: UserWarning: Glyph 8322 (\\N{SUBSCRIPT TWO}) missing from font(s) Arial.\n",
      "  plt.savefig(\n",
      "/Users/grojas/Documents/ProjectsPycharm/Projects/AutomatedEDA/.venv/lib/python3.10/site-packages/ydata_profiling/visualisation/utils.py:73: UserWarning: Glyph 8322 (\\N{SUBSCRIPT TWO}) missing from font(s) Arial.\n",
      "  plt.savefig(\n",
      "/Users/grojas/Documents/ProjectsPycharm/Projects/AutomatedEDA/.venv/lib/python3.10/site-packages/ydata_profiling/visualisation/utils.py:73: UserWarning: Glyph 8322 (\\N{SUBSCRIPT TWO}) missing from font(s) Arial.\n",
      "  plt.savefig(\n",
      "/Users/grojas/Documents/ProjectsPycharm/Projects/AutomatedEDA/.venv/lib/python3.10/site-packages/ydata_profiling/visualisation/utils.py:73: UserWarning: Glyph 8322 (\\N{SUBSCRIPT TWO}) missing from font(s) Arial.\n",
      "  plt.savefig(\n",
      "/Users/grojas/Documents/ProjectsPycharm/Projects/AutomatedEDA/.venv/lib/python3.10/site-packages/ydata_profiling/visualisation/utils.py:73: UserWarning: Glyph 8322 (\\N{SUBSCRIPT TWO}) missing from font(s) Arial.\n",
      "  plt.savefig(\n",
      "/Users/grojas/Documents/ProjectsPycharm/Projects/AutomatedEDA/.venv/lib/python3.10/site-packages/ydata_profiling/visualisation/utils.py:73: UserWarning: Glyph 8322 (\\N{SUBSCRIPT TWO}) missing from font(s) Arial.\n",
      "  plt.savefig(\n",
      "/Users/grojas/Documents/ProjectsPycharm/Projects/AutomatedEDA/.venv/lib/python3.10/site-packages/ydata_profiling/visualisation/utils.py:73: UserWarning: Glyph 8322 (\\N{SUBSCRIPT TWO}) missing from font(s) Arial.\n",
      "  plt.savefig(\n",
      "/Users/grojas/Documents/ProjectsPycharm/Projects/AutomatedEDA/.venv/lib/python3.10/site-packages/ydata_profiling/visualisation/utils.py:73: UserWarning: Glyph 8322 (\\N{SUBSCRIPT TWO}) missing from font(s) Arial.\n",
      "  plt.savefig(\n",
      "/Users/grojas/Documents/ProjectsPycharm/Projects/AutomatedEDA/.venv/lib/python3.10/site-packages/ydata_profiling/visualisation/utils.py:73: UserWarning: Glyph 8322 (\\N{SUBSCRIPT TWO}) missing from font(s) Arial.\n",
      "  plt.savefig(\n",
      "/Users/grojas/Documents/ProjectsPycharm/Projects/AutomatedEDA/.venv/lib/python3.10/site-packages/ydata_profiling/visualisation/utils.py:73: UserWarning: Glyph 8322 (\\N{SUBSCRIPT TWO}) missing from font(s) Arial.\n",
      "  plt.savefig(\n",
      "/Users/grojas/Documents/ProjectsPycharm/Projects/AutomatedEDA/.venv/lib/python3.10/site-packages/ydata_profiling/visualisation/utils.py:73: UserWarning: Glyph 8322 (\\N{SUBSCRIPT TWO}) missing from font(s) Arial.\n",
      "  plt.savefig(\n",
      "/Users/grojas/Documents/ProjectsPycharm/Projects/AutomatedEDA/.venv/lib/python3.10/site-packages/ydata_profiling/visualisation/utils.py:73: UserWarning: Glyph 8322 (\\N{SUBSCRIPT TWO}) missing from font(s) Arial.\n",
      "  plt.savefig(\n"
     ]
    },
    {
     "data": {
      "text/plain": [
       "Generate report structure:   0%|          | 0/1 [00:00<?, ?it/s]"
      ],
      "application/vnd.jupyter.widget-view+json": {
       "version_major": 2,
       "version_minor": 0,
       "model_id": "639db4403f264412b29e17079c864ba2"
      }
     },
     "metadata": {},
     "output_type": "display_data"
    },
    {
     "name": "stderr",
     "output_type": "stream",
     "text": [
      "/Users/grojas/Documents/ProjectsPycharm/Projects/AutomatedEDA/.venv/lib/python3.10/site-packages/ydata_profiling/visualisation/utils.py:73: UserWarning: Glyph 8322 (\\N{SUBSCRIPT TWO}) missing from font(s) Arial.\n",
      "  plt.savefig(\n"
     ]
    },
    {
     "data": {
      "text/plain": [
       "Render HTML:   0%|          | 0/1 [00:00<?, ?it/s]"
      ],
      "application/vnd.jupyter.widget-view+json": {
       "version_major": 2,
       "version_minor": 0,
       "model_id": "5d82b1a5d6204c909fc612cc587f76fc"
      }
     },
     "metadata": {},
     "output_type": "display_data"
    },
    {
     "data": {
      "text/plain": [
       "Export report to file:   0%|          | 0/1 [00:00<?, ?it/s]"
      ],
      "application/vnd.jupyter.widget-view+json": {
       "version_major": 2,
       "version_minor": 0,
       "model_id": "6a3301251f40438693ddf8599c836bc5"
      }
     },
     "metadata": {},
     "output_type": "display_data"
    }
   ],
   "execution_count": 5
  },
  {
   "metadata": {
    "ExecuteTime": {
     "end_time": "2024-10-16T21:54:28.333022Z",
     "start_time": "2024-10-16T21:54:18.077890Z"
    }
   },
   "cell_type": "code",
   "source": [
    "df=pd.read_csv('../data/CR_2023_hourly.csv')\n",
    "profile = ProfileReport(df, title=\"Emission Reduction Report hourly\")\n",
    "profile.to_file(\"CR_2023_hourly.html\")"
   ],
   "id": "545bb0ffb3e7b720",
   "outputs": [
    {
     "data": {
      "text/plain": [
       "Summarize dataset:   0%|          | 0/5 [00:00<?, ?it/s]"
      ],
      "application/vnd.jupyter.widget-view+json": {
       "version_major": 2,
       "version_minor": 0,
       "model_id": "e5f537fdc66d42d795ac1abfbffc9d41"
      }
     },
     "metadata": {},
     "output_type": "display_data"
    },
    {
     "name": "stderr",
     "output_type": "stream",
     "text": [
      "/Users/grojas/Documents/ProjectsPycharm/Projects/AutomatedEDA/.venv/lib/python3.10/site-packages/ydata_profiling/visualisation/utils.py:73: UserWarning: Glyph 8322 (\\N{SUBSCRIPT TWO}) missing from font(s) Arial.\n",
      "  plt.savefig(\n",
      "/Users/grojas/Documents/ProjectsPycharm/Projects/AutomatedEDA/.venv/lib/python3.10/site-packages/ydata_profiling/visualisation/utils.py:73: UserWarning: Glyph 8322 (\\N{SUBSCRIPT TWO}) missing from font(s) Arial.\n",
      "  plt.savefig(\n",
      "/Users/grojas/Documents/ProjectsPycharm/Projects/AutomatedEDA/.venv/lib/python3.10/site-packages/ydata_profiling/visualisation/utils.py:73: UserWarning: Glyph 8322 (\\N{SUBSCRIPT TWO}) missing from font(s) Arial.\n",
      "  plt.savefig(\n",
      "/Users/grojas/Documents/ProjectsPycharm/Projects/AutomatedEDA/.venv/lib/python3.10/site-packages/ydata_profiling/visualisation/utils.py:73: UserWarning: Glyph 8322 (\\N{SUBSCRIPT TWO}) missing from font(s) Arial.\n",
      "  plt.savefig(\n",
      "/Users/grojas/Documents/ProjectsPycharm/Projects/AutomatedEDA/.venv/lib/python3.10/site-packages/ydata_profiling/visualisation/utils.py:73: UserWarning: Glyph 8322 (\\N{SUBSCRIPT TWO}) missing from font(s) Arial.\n",
      "  plt.savefig(\n",
      "/Users/grojas/Documents/ProjectsPycharm/Projects/AutomatedEDA/.venv/lib/python3.10/site-packages/ydata_profiling/visualisation/utils.py:73: UserWarning: Glyph 8322 (\\N{SUBSCRIPT TWO}) missing from font(s) Arial.\n",
      "  plt.savefig(\n",
      "/Users/grojas/Documents/ProjectsPycharm/Projects/AutomatedEDA/.venv/lib/python3.10/site-packages/ydata_profiling/visualisation/utils.py:73: UserWarning: Glyph 8322 (\\N{SUBSCRIPT TWO}) missing from font(s) Arial.\n",
      "  plt.savefig(\n",
      "/Users/grojas/Documents/ProjectsPycharm/Projects/AutomatedEDA/.venv/lib/python3.10/site-packages/ydata_profiling/visualisation/utils.py:73: UserWarning: Glyph 8322 (\\N{SUBSCRIPT TWO}) missing from font(s) Arial.\n",
      "  plt.savefig(\n",
      "/Users/grojas/Documents/ProjectsPycharm/Projects/AutomatedEDA/.venv/lib/python3.10/site-packages/ydata_profiling/visualisation/utils.py:73: UserWarning: Glyph 8322 (\\N{SUBSCRIPT TWO}) missing from font(s) Arial.\n",
      "  plt.savefig(\n",
      "/Users/grojas/Documents/ProjectsPycharm/Projects/AutomatedEDA/.venv/lib/python3.10/site-packages/ydata_profiling/visualisation/utils.py:73: UserWarning: Glyph 8322 (\\N{SUBSCRIPT TWO}) missing from font(s) Arial.\n",
      "  plt.savefig(\n",
      "/Users/grojas/Documents/ProjectsPycharm/Projects/AutomatedEDA/.venv/lib/python3.10/site-packages/ydata_profiling/visualisation/utils.py:73: UserWarning: Glyph 8322 (\\N{SUBSCRIPT TWO}) missing from font(s) Arial.\n",
      "  plt.savefig(\n",
      "/Users/grojas/Documents/ProjectsPycharm/Projects/AutomatedEDA/.venv/lib/python3.10/site-packages/ydata_profiling/visualisation/utils.py:73: UserWarning: Glyph 8322 (\\N{SUBSCRIPT TWO}) missing from font(s) Arial.\n",
      "  plt.savefig(\n",
      "/Users/grojas/Documents/ProjectsPycharm/Projects/AutomatedEDA/.venv/lib/python3.10/site-packages/ydata_profiling/visualisation/utils.py:73: UserWarning: Glyph 8322 (\\N{SUBSCRIPT TWO}) missing from font(s) Arial.\n",
      "  plt.savefig(\n",
      "/Users/grojas/Documents/ProjectsPycharm/Projects/AutomatedEDA/.venv/lib/python3.10/site-packages/ydata_profiling/visualisation/utils.py:73: UserWarning: Glyph 8322 (\\N{SUBSCRIPT TWO}) missing from font(s) Arial.\n",
      "  plt.savefig(\n"
     ]
    },
    {
     "data": {
      "text/plain": [
       "Generate report structure:   0%|          | 0/1 [00:00<?, ?it/s]"
      ],
      "application/vnd.jupyter.widget-view+json": {
       "version_major": 2,
       "version_minor": 0,
       "model_id": "1a4cd6eb39804f5baaf8ce50c8f36868"
      }
     },
     "metadata": {},
     "output_type": "display_data"
    },
    {
     "name": "stderr",
     "output_type": "stream",
     "text": [
      "/Users/grojas/Documents/ProjectsPycharm/Projects/AutomatedEDA/.venv/lib/python3.10/site-packages/ydata_profiling/visualisation/utils.py:73: UserWarning: Glyph 8322 (\\N{SUBSCRIPT TWO}) missing from font(s) Arial.\n",
      "  plt.savefig(\n"
     ]
    },
    {
     "data": {
      "text/plain": [
       "Render HTML:   0%|          | 0/1 [00:00<?, ?it/s]"
      ],
      "application/vnd.jupyter.widget-view+json": {
       "version_major": 2,
       "version_minor": 0,
       "model_id": "d3c01c6c03254529b1c1a4bb6c170eef"
      }
     },
     "metadata": {},
     "output_type": "display_data"
    },
    {
     "data": {
      "text/plain": [
       "Export report to file:   0%|          | 0/1 [00:00<?, ?it/s]"
      ],
      "application/vnd.jupyter.widget-view+json": {
       "version_major": 2,
       "version_minor": 0,
       "model_id": "10fdff1c7f3449498a83c5d603daa4cb"
      }
     },
     "metadata": {},
     "output_type": "display_data"
    }
   ],
   "execution_count": 6
  }
 ],
 "metadata": {
  "kernelspec": {
   "display_name": "Python 3",
   "language": "python",
   "name": "python3"
  },
  "language_info": {
   "codemirror_mode": {
    "name": "ipython",
    "version": 2
   },
   "file_extension": ".py",
   "mimetype": "text/x-python",
   "name": "python",
   "nbconvert_exporter": "python",
   "pygments_lexer": "ipython2",
   "version": "2.7.6"
  }
 },
 "nbformat": 4,
 "nbformat_minor": 5
}
