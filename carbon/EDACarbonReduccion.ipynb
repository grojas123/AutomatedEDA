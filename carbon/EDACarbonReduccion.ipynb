{
 "cells": [
  {
   "cell_type": "code",
   "id": "initial_id",
   "metadata": {
    "collapsed": true,
    "ExecuteTime": {
     "end_time": "2024-10-16T00:06:36.643721Z",
     "start_time": "2024-10-16T00:06:33.038620Z"
    }
   },
   "source": [
    "# https://www.electricitymaps.com/data-portal/costa-rica\n",
    "import pandas as pd\n",
    "from ydata_profiling import ProfileReport"
   ],
   "outputs": [],
   "execution_count": 1
  },
  {
   "metadata": {
    "ExecuteTime": {
     "end_time": "2024-10-16T00:06:44.890895Z",
     "start_time": "2024-10-16T00:06:36.661846Z"
    }
   },
   "cell_type": "code",
   "source": [
    "df = pd.read_csv('../data/CR_2023_daily.csv')\n",
    "profile = ProfileReport(df, title=\"Emission Reduction Report daily\")\n",
    "profile.to_file(\"CR_2023_daily.html\")"
   ],
   "id": "93c3adac20372484",
   "outputs": [
    {
     "data": {
      "text/plain": [
       "Summarize dataset:   0%|          | 0/5 [00:00<?, ?it/s]"
      ],
      "application/vnd.jupyter.widget-view+json": {
       "version_major": 2,
       "version_minor": 0,
       "model_id": "e2ebc769f4644fe9ba445da9e27a173e"
      }
     },
     "metadata": {},
     "output_type": "display_data"
    },
    {
     "name": "stderr",
     "output_type": "stream",
     "text": [
      "C:\\RepoLabs\\AutomatedEDA\\.venv\\lib\\site-packages\\ydata_profiling\\visualisation\\utils.py:73: UserWarning: Glyph 8322 (\\N{SUBSCRIPT TWO}) missing from font(s) Arial.\n",
      "  plt.savefig(\n",
      "C:\\RepoLabs\\AutomatedEDA\\.venv\\lib\\site-packages\\ydata_profiling\\visualisation\\utils.py:73: UserWarning: Glyph 8322 (\\N{SUBSCRIPT TWO}) missing from font(s) Arial.\n",
      "  plt.savefig(\n",
      "C:\\RepoLabs\\AutomatedEDA\\.venv\\lib\\site-packages\\ydata_profiling\\visualisation\\utils.py:73: UserWarning: Glyph 8322 (\\N{SUBSCRIPT TWO}) missing from font(s) Arial.\n",
      "  plt.savefig(\n",
      "C:\\RepoLabs\\AutomatedEDA\\.venv\\lib\\site-packages\\ydata_profiling\\visualisation\\utils.py:73: UserWarning: Glyph 8322 (\\N{SUBSCRIPT TWO}) missing from font(s) Arial.\n",
      "  plt.savefig(\n",
      "C:\\RepoLabs\\AutomatedEDA\\.venv\\lib\\site-packages\\ydata_profiling\\visualisation\\utils.py:73: UserWarning: Glyph 8322 (\\N{SUBSCRIPT TWO}) missing from font(s) Arial.\n",
      "  plt.savefig(\n",
      "C:\\RepoLabs\\AutomatedEDA\\.venv\\lib\\site-packages\\ydata_profiling\\visualisation\\utils.py:73: UserWarning: Glyph 8322 (\\N{SUBSCRIPT TWO}) missing from font(s) Arial.\n",
      "  plt.savefig(\n",
      "C:\\RepoLabs\\AutomatedEDA\\.venv\\lib\\site-packages\\ydata_profiling\\visualisation\\utils.py:73: UserWarning: Glyph 8322 (\\N{SUBSCRIPT TWO}) missing from font(s) Arial.\n",
      "  plt.savefig(\n",
      "C:\\RepoLabs\\AutomatedEDA\\.venv\\lib\\site-packages\\ydata_profiling\\visualisation\\utils.py:73: UserWarning: Glyph 8322 (\\N{SUBSCRIPT TWO}) missing from font(s) Arial.\n",
      "  plt.savefig(\n",
      "C:\\RepoLabs\\AutomatedEDA\\.venv\\lib\\site-packages\\ydata_profiling\\visualisation\\utils.py:73: UserWarning: Glyph 8322 (\\N{SUBSCRIPT TWO}) missing from font(s) Arial.\n",
      "  plt.savefig(\n",
      "C:\\RepoLabs\\AutomatedEDA\\.venv\\lib\\site-packages\\ydata_profiling\\visualisation\\utils.py:73: UserWarning: Glyph 8322 (\\N{SUBSCRIPT TWO}) missing from font(s) Arial.\n",
      "  plt.savefig(\n",
      "C:\\RepoLabs\\AutomatedEDA\\.venv\\lib\\site-packages\\ydata_profiling\\visualisation\\utils.py:73: UserWarning: Glyph 8322 (\\N{SUBSCRIPT TWO}) missing from font(s) Arial.\n",
      "  plt.savefig(\n",
      "C:\\RepoLabs\\AutomatedEDA\\.venv\\lib\\site-packages\\ydata_profiling\\visualisation\\utils.py:73: UserWarning: Glyph 8322 (\\N{SUBSCRIPT TWO}) missing from font(s) Arial.\n",
      "  plt.savefig(\n",
      "C:\\RepoLabs\\AutomatedEDA\\.venv\\lib\\site-packages\\ydata_profiling\\visualisation\\utils.py:73: UserWarning: Glyph 8322 (\\N{SUBSCRIPT TWO}) missing from font(s) Arial.\n",
      "  plt.savefig(\n",
      "C:\\RepoLabs\\AutomatedEDA\\.venv\\lib\\site-packages\\ydata_profiling\\visualisation\\utils.py:73: UserWarning: Glyph 8322 (\\N{SUBSCRIPT TWO}) missing from font(s) Arial.\n",
      "  plt.savefig(\n"
     ]
    },
    {
     "data": {
      "text/plain": [
       "Generate report structure:   0%|          | 0/1 [00:00<?, ?it/s]"
      ],
      "application/vnd.jupyter.widget-view+json": {
       "version_major": 2,
       "version_minor": 0,
       "model_id": "1ff31e4945c242db9e5f5942af73ead0"
      }
     },
     "metadata": {},
     "output_type": "display_data"
    },
    {
     "name": "stderr",
     "output_type": "stream",
     "text": [
      "C:\\RepoLabs\\AutomatedEDA\\.venv\\lib\\site-packages\\ydata_profiling\\visualisation\\utils.py:73: UserWarning: Glyph 8322 (\\N{SUBSCRIPT TWO}) missing from font(s) Arial.\n",
      "  plt.savefig(\n"
     ]
    },
    {
     "data": {
      "text/plain": [
       "Render HTML:   0%|          | 0/1 [00:00<?, ?it/s]"
      ],
      "application/vnd.jupyter.widget-view+json": {
       "version_major": 2,
       "version_minor": 0,
       "model_id": "64dca8b7b54c4c5795b8e652e434dbfe"
      }
     },
     "metadata": {},
     "output_type": "display_data"
    },
    {
     "data": {
      "text/plain": [
       "Export report to file:   0%|          | 0/1 [00:00<?, ?it/s]"
      ],
      "application/vnd.jupyter.widget-view+json": {
       "version_major": 2,
       "version_minor": 0,
       "model_id": "1fe1a17d1d7b402f8cf27e63a6ec6661"
      }
     },
     "metadata": {},
     "output_type": "display_data"
    }
   ],
   "execution_count": 2
  },
  {
   "metadata": {
    "ExecuteTime": {
     "end_time": "2024-10-16T00:06:54.031645Z",
     "start_time": "2024-10-16T00:06:45.038700Z"
    }
   },
   "cell_type": "code",
   "source": [
    "df=pd.read_csv('../data/CR_2023_hourly.csv')\n",
    "profile = ProfileReport(df, title=\"Emission Reduction Report hourly\")\n",
    "profile.to_file(\"CR_2023_hourly.html\")"
   ],
   "id": "545bb0ffb3e7b720",
   "outputs": [
    {
     "data": {
      "text/plain": [
       "Summarize dataset:   0%|          | 0/5 [00:00<?, ?it/s]"
      ],
      "application/vnd.jupyter.widget-view+json": {
       "version_major": 2,
       "version_minor": 0,
       "model_id": "0dbc29aa5ee149538eaf2fbe7a75a715"
      }
     },
     "metadata": {},
     "output_type": "display_data"
    },
    {
     "name": "stderr",
     "output_type": "stream",
     "text": [
      "C:\\RepoLabs\\AutomatedEDA\\.venv\\lib\\site-packages\\ydata_profiling\\visualisation\\utils.py:73: UserWarning: Glyph 8322 (\\N{SUBSCRIPT TWO}) missing from font(s) Arial.\n",
      "  plt.savefig(\n",
      "C:\\RepoLabs\\AutomatedEDA\\.venv\\lib\\site-packages\\ydata_profiling\\visualisation\\utils.py:73: UserWarning: Glyph 8322 (\\N{SUBSCRIPT TWO}) missing from font(s) Arial.\n",
      "  plt.savefig(\n",
      "C:\\RepoLabs\\AutomatedEDA\\.venv\\lib\\site-packages\\ydata_profiling\\visualisation\\utils.py:73: UserWarning: Glyph 8322 (\\N{SUBSCRIPT TWO}) missing from font(s) Arial.\n",
      "  plt.savefig(\n",
      "C:\\RepoLabs\\AutomatedEDA\\.venv\\lib\\site-packages\\ydata_profiling\\visualisation\\utils.py:73: UserWarning: Glyph 8322 (\\N{SUBSCRIPT TWO}) missing from font(s) Arial.\n",
      "  plt.savefig(\n",
      "C:\\RepoLabs\\AutomatedEDA\\.venv\\lib\\site-packages\\ydata_profiling\\visualisation\\utils.py:73: UserWarning: Glyph 8322 (\\N{SUBSCRIPT TWO}) missing from font(s) Arial.\n",
      "  plt.savefig(\n",
      "C:\\RepoLabs\\AutomatedEDA\\.venv\\lib\\site-packages\\ydata_profiling\\visualisation\\utils.py:73: UserWarning: Glyph 8322 (\\N{SUBSCRIPT TWO}) missing from font(s) Arial.\n",
      "  plt.savefig(\n",
      "C:\\RepoLabs\\AutomatedEDA\\.venv\\lib\\site-packages\\ydata_profiling\\visualisation\\utils.py:73: UserWarning: Glyph 8322 (\\N{SUBSCRIPT TWO}) missing from font(s) Arial.\n",
      "  plt.savefig(\n",
      "C:\\RepoLabs\\AutomatedEDA\\.venv\\lib\\site-packages\\ydata_profiling\\visualisation\\utils.py:73: UserWarning: Glyph 8322 (\\N{SUBSCRIPT TWO}) missing from font(s) Arial.\n",
      "  plt.savefig(\n",
      "C:\\RepoLabs\\AutomatedEDA\\.venv\\lib\\site-packages\\ydata_profiling\\visualisation\\utils.py:73: UserWarning: Glyph 8322 (\\N{SUBSCRIPT TWO}) missing from font(s) Arial.\n",
      "  plt.savefig(\n",
      "C:\\RepoLabs\\AutomatedEDA\\.venv\\lib\\site-packages\\ydata_profiling\\visualisation\\utils.py:73: UserWarning: Glyph 8322 (\\N{SUBSCRIPT TWO}) missing from font(s) Arial.\n",
      "  plt.savefig(\n",
      "C:\\RepoLabs\\AutomatedEDA\\.venv\\lib\\site-packages\\ydata_profiling\\visualisation\\utils.py:73: UserWarning: Glyph 8322 (\\N{SUBSCRIPT TWO}) missing from font(s) Arial.\n",
      "  plt.savefig(\n",
      "C:\\RepoLabs\\AutomatedEDA\\.venv\\lib\\site-packages\\ydata_profiling\\visualisation\\utils.py:73: UserWarning: Glyph 8322 (\\N{SUBSCRIPT TWO}) missing from font(s) Arial.\n",
      "  plt.savefig(\n",
      "C:\\RepoLabs\\AutomatedEDA\\.venv\\lib\\site-packages\\ydata_profiling\\visualisation\\utils.py:73: UserWarning: Glyph 8322 (\\N{SUBSCRIPT TWO}) missing from font(s) Arial.\n",
      "  plt.savefig(\n",
      "C:\\RepoLabs\\AutomatedEDA\\.venv\\lib\\site-packages\\ydata_profiling\\visualisation\\utils.py:73: UserWarning: Glyph 8322 (\\N{SUBSCRIPT TWO}) missing from font(s) Arial.\n",
      "  plt.savefig(\n"
     ]
    },
    {
     "data": {
      "text/plain": [
       "Generate report structure:   0%|          | 0/1 [00:00<?, ?it/s]"
      ],
      "application/vnd.jupyter.widget-view+json": {
       "version_major": 2,
       "version_minor": 0,
       "model_id": "e7ec9286893042e58de8411602e81b36"
      }
     },
     "metadata": {},
     "output_type": "display_data"
    },
    {
     "name": "stderr",
     "output_type": "stream",
     "text": [
      "C:\\RepoLabs\\AutomatedEDA\\.venv\\lib\\site-packages\\ydata_profiling\\visualisation\\utils.py:73: UserWarning: Glyph 8322 (\\N{SUBSCRIPT TWO}) missing from font(s) Arial.\n",
      "  plt.savefig(\n"
     ]
    },
    {
     "data": {
      "text/plain": [
       "Render HTML:   0%|          | 0/1 [00:00<?, ?it/s]"
      ],
      "application/vnd.jupyter.widget-view+json": {
       "version_major": 2,
       "version_minor": 0,
       "model_id": "a6d8cbe3a1fc4a32a300443ff887b0f3"
      }
     },
     "metadata": {},
     "output_type": "display_data"
    },
    {
     "data": {
      "text/plain": [
       "Export report to file:   0%|          | 0/1 [00:00<?, ?it/s]"
      ],
      "application/vnd.jupyter.widget-view+json": {
       "version_major": 2,
       "version_minor": 0,
       "model_id": "2a0469e35c9942d48b019cbe08addaf7"
      }
     },
     "metadata": {},
     "output_type": "display_data"
    }
   ],
   "execution_count": 3
  }
 ],
 "metadata": {
  "kernelspec": {
   "display_name": "Python 3",
   "language": "python",
   "name": "python3"
  },
  "language_info": {
   "codemirror_mode": {
    "name": "ipython",
    "version": 2
   },
   "file_extension": ".py",
   "mimetype": "text/x-python",
   "name": "python",
   "nbconvert_exporter": "python",
   "pygments_lexer": "ipython2",
   "version": "2.7.6"
  }
 },
 "nbformat": 4,
 "nbformat_minor": 5
}
